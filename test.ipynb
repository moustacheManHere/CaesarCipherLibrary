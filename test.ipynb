{
 "cells": [
  {
   "cell_type": "code",
   "execution_count": 1,
   "metadata": {},
   "outputs": [],
   "source": [
    "def encrypt(txt, key):\n",
    "    return \"\".join(\n",
    "        chr(\n",
    "            (ord(char) - ord(\"A\" if char.isupper() else \"a\") + key) % 26\n",
    "            + ord(\"A\" if char.isupper() else \"a\")\n",
    "        )\n",
    "        if char.isalpha()\n",
    "        else char\n",
    "        for char in txt\n",
    "    )"
   ]
  },
  {
   "cell_type": "code",
   "execution_count": 2,
   "metadata": {},
   "outputs": [
    {
     "data": {
      "text/plain": [
       "'ujcyp ica'"
      ]
     },
     "execution_count": 2,
     "metadata": {},
     "output_type": "execute_result"
    }
   ],
   "source": [
    "encrypt(\"shawn gay\", 2)"
   ]
  },
  {
   "cell_type": "code",
   "execution_count": 2,
   "metadata": {},
   "outputs": [
    {
     "name": "stdout",
     "output_type": "stream",
     "text": [
      "In a world of vibrant hues, a soul named Shawn,\n",
      "A spirit unbounded, a light brightly drawn.\n",
      "With courage and grace, he walks his own way,\n",
      "Embracing the truth that colors his day.\n",
      "\n",
      "In the tapestry of life, his threads intertwine,\n",
      "A rainbow of love, a spectrum divine.\n",
      "For Shawn is gay, and proudly he stands,\n",
      "In a world that's evolving, in welcoming lands.\n",
      "\n",
      "With every step, he dances with pride,\n",
      "A symphony of love, nothing to hide.\n",
      "His heart beats a rhythm, a love melody,\n",
      "Echoing loudly, breaking through bigotry.\n",
      "\n",
      "In the canvas of life, he paints with delight,\n",
      "A portrait of love, a beacon so bright.\n",
      "For love knows no boundaries, no judgment, no line,\n",
      "And Shawn, with his love, continues to shine.\n",
      "\n",
      "In the tapestry of diversity, his story is told,\n",
      "A tale of acceptance, a truth to unfold.\n",
      "For love knows no gender, no color, no creed,\n",
      "And in Shawn's embrace, we find what we need.\n",
      "\n",
      "So here's to Shawn, a beacon so strong,\n",
      "A testament to love, where he truly belongs.\n",
      "In this poem we weave, with words pure and true,\n",
      "Celebrating Shawn and the love that he knew.\n"
     ]
    }
   ],
   "source": [
    "# Open a file for reading\n",
    "with open(\"text/shawn.txt\", \"r\") as file:\n",
    "    long_string = file.read()\n",
    "\n",
    "# Now, you can use the long_string variable as needed\n",
    "print(long_string)"
   ]
  },
  {
   "cell_type": "code",
   "execution_count": 2,
   "metadata": {},
   "outputs": [
    {
     "data": {
      "text/plain": [
       "['In a world of vibrant hues, a soul named Shawn,',\n",
       " 'A spirit unbounded, a light brightly drawn.',\n",
       " 'With courage and grace, he walks his own way,',\n",
       " 'Embracing the truth that colors his day.',\n",
       " '',\n",
       " 'In the tapestry of life, his threads intertwine,',\n",
       " 'A rainbow of love, a spectrum divine.',\n",
       " 'For Shawn is gay, and proudly he stands,',\n",
       " \"In a world that's evolving, in welcoming lands.\",\n",
       " '',\n",
       " 'With every step, he dances with pride,',\n",
       " 'A symphony of love, nothing to hide.',\n",
       " 'His heart beats a rhythm, a love melody,',\n",
       " 'Echoing loudly, breaking through bigotry.',\n",
       " '',\n",
       " 'In the canvas of life, he paints with delight,',\n",
       " 'A portrait of love, a beacon so bright.',\n",
       " 'For love knows no boundaries, no judgment, no line,',\n",
       " 'And Shawn, with his love, continues to shine.',\n",
       " '',\n",
       " 'In the tapestry of diversity, his story is told,',\n",
       " 'A tale of acceptance, a truth to unfold.',\n",
       " 'For love knows no gender, no color, no creed,',\n",
       " \"And in Shawn's embrace, we find what we need.\",\n",
       " '',\n",
       " \"So here's to Shawn, a beacon so strong,\",\n",
       " 'A testament to love, where he truly belongs.',\n",
       " 'In this poem we weave, with words pure and true,',\n",
       " 'Celebrating Shawn and the love that he knew.']"
      ]
     },
     "execution_count": 2,
     "metadata": {},
     "output_type": "execute_result"
    }
   ],
   "source": [
    "long_string.split(\"\\n\")"
   ]
  },
  {
   "cell_type": "code",
   "execution_count": 4,
   "metadata": {},
   "outputs": [
    {
     "name": "stdout",
     "output_type": "stream",
     "text": [
      "h: 10.00%\n",
      "e: 10.00%\n",
      "l: 30.00%\n",
      "o: 20.00%\n",
      "w: 10.00%\n",
      "r: 10.00%\n",
      "d: 10.00%\n"
     ]
    }
   ],
   "source": [
    "def calculate_letter_frequency_percentage(input_string):\n",
    "    # Convert the input string to lowercase\n",
    "    input_string = input_string.lower()\n",
    "\n",
    "    # Count the occurrences of each letter\n",
    "    letter_counts = {}\n",
    "    total_letters = 0\n",
    "\n",
    "    for char in input_string:\n",
    "        if char.isalpha():\n",
    "            letter_counts[char] = letter_counts.get(char, 0) + 1\n",
    "            total_letters += 1\n",
    "\n",
    "    # Calculate the frequency percentage for each letter\n",
    "    letter_frequencies = {}\n",
    "    for letter, count in letter_counts.items():\n",
    "        frequency_percentage = (count / total_letters) * 100\n",
    "        letter_frequencies[letter] = frequency_percentage\n",
    "\n",
    "    return letter_frequencies\n",
    "\n",
    "\n",
    "# Example usage:\n",
    "input_text = \"Hello, World!\"\n",
    "frequency_percentages = calculate_letter_frequency_percentage(input_text)\n",
    "\n",
    "# Display the results\n",
    "for letter, percentage in frequency_percentages.items():\n",
    "    print(f\"{letter}: {percentage:.2f}%\")"
   ]
  },
  {
   "cell_type": "code",
   "execution_count": 5,
   "metadata": {},
   "outputs": [
    {
     "name": "stdout",
     "output_type": "stream",
     "text": [
      "a: 8.11%\n",
      "b: 1.84%\n",
      "c: 2.33%\n",
      "d: 4.18%\n",
      "e: 10.57%\n",
      "f: 1.84%\n",
      "g: 2.46%\n",
      "h: 6.63%\n",
      "i: 6.88%\n",
      "j: 0.12%\n",
      "k: 0.61%\n",
      "l: 4.18%\n",
      "m: 1.35%\n",
      "n: 8.48%\n",
      "o: 8.48%\n",
      "p: 1.60%\n",
      "q: 0.00%\n",
      "r: 5.77%\n",
      "s: 6.14%\n",
      "t: 8.23%\n",
      "u: 2.21%\n",
      "v: 2.09%\n",
      "w: 3.81%\n",
      "x: 0.00%\n",
      "y: 2.09%\n",
      "z: 0.00%\n"
     ]
    }
   ],
   "source": [
    "def calculate_letter_frequency_percentage(input_string):\n",
    "    # Convert the input string to lowercase\n",
    "    input_string = input_string.lower()\n",
    "\n",
    "    # Count the occurrences of each letter\n",
    "    letter_counts = {}\n",
    "    total_letters = 0\n",
    "\n",
    "    for char in input_string:\n",
    "        if char.isalpha():\n",
    "            letter_counts[char] = letter_counts.get(char, 0) + 1\n",
    "            total_letters += 1\n",
    "\n",
    "    # Calculate the frequency percentage for each letter\n",
    "    letter_frequencies = {}\n",
    "    for letter in \"abcdefghijklmnopqrstuvwxyz\":\n",
    "        count = letter_counts.get(letter, 0)\n",
    "        frequency_percentage = (count / total_letters) * 100\n",
    "        letter_frequencies[letter] = frequency_percentage\n",
    "\n",
    "    return letter_frequencies\n",
    "\n",
    "\n",
    "# Example usage:\n",
    "input_text = long_string\n",
    "frequency_percentages = calculate_letter_frequency_percentage(input_text)\n",
    "\n",
    "# Display the results\n",
    "for letter, percentage in frequency_percentages.items():\n",
    "    print(f\"{letter}: {percentage:.2f}%\")"
   ]
  },
  {
   "cell_type": "code",
   "execution_count": 10,
   "metadata": {},
   "outputs": [],
   "source": [
    "top_5_letters = dict(\n",
    "    sorted(frequency_percentages.items(), key=lambda x: x[1], reverse=True)[:5]\n",
    ")"
   ]
  },
  {
   "cell_type": "code",
   "execution_count": 11,
   "metadata": {},
   "outputs": [
    {
     "data": {
      "text/plain": [
       "{'e': 10.565110565110565,\n",
       " 'n': 8.476658476658477,\n",
       " 'o': 8.476658476658477,\n",
       " 't': 8.230958230958231,\n",
       " 'a': 8.108108108108109}"
      ]
     },
     "execution_count": 11,
     "metadata": {},
     "output_type": "execute_result"
    }
   ],
   "source": [
    "top_5_letters"
   ]
  },
  {
   "cell_type": "code",
   "execution_count": 12,
   "metadata": {},
   "outputs": [
    {
     "name": "stdout",
     "output_type": "stream",
     "text": [
      "e 10.565110565110565\n",
      "n 8.476658476658477\n",
      "o 8.476658476658477\n",
      "t 8.230958230958231\n",
      "a 8.108108108108109\n"
     ]
    }
   ],
   "source": [
    "for i in top_5_letters.keys():\n",
    "    print(i, top_5_letters[i])"
   ]
  },
  {
   "cell_type": "code",
   "execution_count": 1,
   "metadata": {},
   "outputs": [
    {
     "name": "stdout",
     "output_type": "stream",
     "text": [
      "['a', 'a', 'a', 'a', 'a', 'a', 'a', 'a', 'a', 'a', 'a', 'a', 'a', 'a', 'a', 'a', 'a', 'a', 'a', 'a']\n"
     ]
    }
   ],
   "source": [
    "my_array = [\"a\"] * 20\n",
    "print(my_array)"
   ]
  },
  {
   "cell_type": "code",
   "execution_count": null,
   "metadata": {},
   "outputs": [],
   "source": []
  }
 ],
 "metadata": {
  "kernelspec": {
   "display_name": "base",
   "language": "python",
   "name": "python3"
  },
  "language_info": {
   "codemirror_mode": {
    "name": "ipython",
    "version": 3
   },
   "file_extension": ".py",
   "mimetype": "text/x-python",
   "name": "python",
   "nbconvert_exporter": "python",
   "pygments_lexer": "ipython3",
   "version": "3.10.9"
  }
 },
 "nbformat": 4,
 "nbformat_minor": 2
}
