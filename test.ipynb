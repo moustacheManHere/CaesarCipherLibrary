{
 "cells": [
  {
   "cell_type": "code",
   "execution_count": 1,
   "metadata": {},
   "outputs": [],
   "source": [
    "def encrypt(txt, key):\n",
    "    return \"\".join(\n",
    "        chr(\n",
    "            (ord(char) - ord(\"A\" if char.isupper() else \"a\") + key) % 26\n",
    "            + ord(\"A\" if char.isupper() else \"a\")\n",
    "        )\n",
    "        if char.isalpha()\n",
    "        else char\n",
    "        for char in txt\n",
    "    )"
   ]
  },
  {
   "cell_type": "code",
   "execution_count": 2,
   "metadata": {},
   "outputs": [
    {
     "data": {
      "text/plain": [
       "'ujcyp ica'"
      ]
     },
     "execution_count": 2,
     "metadata": {},
     "output_type": "execute_result"
    }
   ],
   "source": [
    "encrypt(\"shawn gay\", 2)"
   ]
  },
  {
   "cell_type": "code",
   "execution_count": 2,
   "metadata": {},
   "outputs": [
    {
     "name": "stdout",
     "output_type": "stream",
     "text": [
      "In a world of vibrant hues, a soul named Shawn,\n",
      "A spirit unbounded, a light brightly drawn.\n",
      "With courage and grace, he walks his own way,\n",
      "Embracing the truth that colors his day.\n",
      "\n",
      "In the tapestry of life, his threads intertwine,\n",
      "A rainbow of love, a spectrum divine.\n",
      "For Shawn is gay, and proudly he stands,\n",
      "In a world that's evolving, in welcoming lands.\n",
      "\n",
      "With every step, he dances with pride,\n",
      "A symphony of love, nothing to hide.\n",
      "His heart beats a rhythm, a love melody,\n",
      "Echoing loudly, breaking through bigotry.\n",
      "\n",
      "In the canvas of life, he paints with delight,\n",
      "A portrait of love, a beacon so bright.\n",
      "For love knows no boundaries, no judgment, no line,\n",
      "And Shawn, with his love, continues to shine.\n",
      "\n",
      "In the tapestry of diversity, his story is told,\n",
      "A tale of acceptance, a truth to unfold.\n",
      "For love knows no gender, no color, no creed,\n",
      "And in Shawn's embrace, we find what we need.\n",
      "\n",
      "So here's to Shawn, a beacon so strong,\n",
      "A testament to love, where he truly belongs.\n",
      "In this poem we weave, with words pure and true,\n",
      "Celebrating Shawn and the love that he knew.\n"
     ]
    }
   ],
   "source": [
    "# Open a file for reading\n",
    "with open(\"text/shawn.txt\", \"r\") as file:\n",
    "    long_string = file.read()\n",
    "\n",
    "# Now, you can use the long_string variable as needed\n",
    "print(long_string)"
   ]
  },
  {
   "cell_type": "code",
   "execution_count": 2,
   "metadata": {},
   "outputs": [
    {
     "data": {
      "text/plain": [
       "['In a world of vibrant hues, a soul named Shawn,',\n",
       " 'A spirit unbounded, a light brightly drawn.',\n",
       " 'With courage and grace, he walks his own way,',\n",
       " 'Embracing the truth that colors his day.',\n",
       " '',\n",
       " 'In the tapestry of life, his threads intertwine,',\n",
       " 'A rainbow of love, a spectrum divine.',\n",
       " 'For Shawn is gay, and proudly he stands,',\n",
       " \"In a world that's evolving, in welcoming lands.\",\n",
       " '',\n",
       " 'With every step, he dances with pride,',\n",
       " 'A symphony of love, nothing to hide.',\n",
       " 'His heart beats a rhythm, a love melody,',\n",
       " 'Echoing loudly, breaking through bigotry.',\n",
       " '',\n",
       " 'In the canvas of life, he paints with delight,',\n",
       " 'A portrait of love, a beacon so bright.',\n",
       " 'For love knows no boundaries, no judgment, no line,',\n",
       " 'And Shawn, with his love, continues to shine.',\n",
       " '',\n",
       " 'In the tapestry of diversity, his story is told,',\n",
       " 'A tale of acceptance, a truth to unfold.',\n",
       " 'For love knows no gender, no color, no creed,',\n",
       " \"And in Shawn's embrace, we find what we need.\",\n",
       " '',\n",
       " \"So here's to Shawn, a beacon so strong,\",\n",
       " 'A testament to love, where he truly belongs.',\n",
       " 'In this poem we weave, with words pure and true,',\n",
       " 'Celebrating Shawn and the love that he knew.']"
      ]
     },
     "execution_count": 2,
     "metadata": {},
     "output_type": "execute_result"
    }
   ],
   "source": [
    "long_string.split(\"\\n\")"
   ]
  },
  {
   "cell_type": "code",
   "execution_count": 4,
   "metadata": {},
   "outputs": [
    {
     "name": "stdout",
     "output_type": "stream",
     "text": [
      "h: 10.00%\n",
      "e: 10.00%\n",
      "l: 30.00%\n",
      "o: 20.00%\n",
      "w: 10.00%\n",
      "r: 10.00%\n",
      "d: 10.00%\n"
     ]
    }
   ],
   "source": [
    "def calculate_letter_frequency_percentage(input_string):\n",
    "    # Convert the input string to lowercase\n",
    "    input_string = input_string.lower()\n",
    "\n",
    "    # Count the occurrences of each letter\n",
    "    letter_counts = {}\n",
    "    total_letters = 0\n",
    "\n",
    "    for char in input_string:\n",
    "        if char.isalpha():\n",
    "            letter_counts[char] = letter_counts.get(char, 0) + 1\n",
    "            total_letters += 1\n",
    "\n",
    "    # Calculate the frequency percentage for each letter\n",
    "    letter_frequencies = {}\n",
    "    for letter, count in letter_counts.items():\n",
    "        frequency_percentage = (count / total_letters) * 100\n",
    "        letter_frequencies[letter] = frequency_percentage\n",
    "\n",
    "    return letter_frequencies\n",
    "\n",
    "\n",
    "# Example usage:\n",
    "input_text = \"Hello, World!\"\n",
    "frequency_percentages = calculate_letter_frequency_percentage(input_text)\n",
    "\n",
    "# Display the results\n",
    "for letter, percentage in frequency_percentages.items():\n",
    "    print(f\"{letter}: {percentage:.2f}%\")"
   ]
  },
  {
   "cell_type": "code",
   "execution_count": 5,
   "metadata": {},
   "outputs": [
    {
     "name": "stdout",
     "output_type": "stream",
     "text": [
      "a: 8.11%\n",
      "b: 1.84%\n",
      "c: 2.33%\n",
      "d: 4.18%\n",
      "e: 10.57%\n",
      "f: 1.84%\n",
      "g: 2.46%\n",
      "h: 6.63%\n",
      "i: 6.88%\n",
      "j: 0.12%\n",
      "k: 0.61%\n",
      "l: 4.18%\n",
      "m: 1.35%\n",
      "n: 8.48%\n",
      "o: 8.48%\n",
      "p: 1.60%\n",
      "q: 0.00%\n",
      "r: 5.77%\n",
      "s: 6.14%\n",
      "t: 8.23%\n",
      "u: 2.21%\n",
      "v: 2.09%\n",
      "w: 3.81%\n",
      "x: 0.00%\n",
      "y: 2.09%\n",
      "z: 0.00%\n"
     ]
    }
   ],
   "source": [
    "def calculate_letter_frequency_percentage(input_string):\n",
    "    # Convert the input string to lowercase\n",
    "    input_string = input_string.lower()\n",
    "\n",
    "    # Count the occurrences of each letter\n",
    "    letter_counts = {}\n",
    "    total_letters = 0\n",
    "\n",
    "    for char in input_string:\n",
    "        if char.isalpha():\n",
    "            letter_counts[char] = letter_counts.get(char, 0) + 1\n",
    "            total_letters += 1\n",
    "\n",
    "    # Calculate the frequency percentage for each letter\n",
    "    letter_frequencies = {}\n",
    "    for letter in \"abcdefghijklmnopqrstuvwxyz\":\n",
    "        count = letter_counts.get(letter, 0)\n",
    "        frequency_percentage = (count / total_letters) * 100\n",
    "        letter_frequencies[letter] = frequency_percentage\n",
    "\n",
    "    return letter_frequencies\n",
    "\n",
    "\n",
    "# Example usage:\n",
    "input_text = long_string\n",
    "frequency_percentages = calculate_letter_frequency_percentage(input_text)\n",
    "\n",
    "# Display the results\n",
    "for letter, percentage in frequency_percentages.items():\n",
    "    print(f\"{letter}: {percentage:.2f}%\")"
   ]
  },
  {
   "cell_type": "code",
   "execution_count": 10,
   "metadata": {},
   "outputs": [],
   "source": [
    "top_5_letters = dict(\n",
    "    sorted(frequency_percentages.items(), key=lambda x: x[1], reverse=True)[:5]\n",
    ")"
   ]
  },
  {
   "cell_type": "code",
   "execution_count": 11,
   "metadata": {},
   "outputs": [
    {
     "data": {
      "text/plain": [
       "{'e': 10.565110565110565,\n",
       " 'n': 8.476658476658477,\n",
       " 'o': 8.476658476658477,\n",
       " 't': 8.230958230958231,\n",
       " 'a': 8.108108108108109}"
      ]
     },
     "execution_count": 11,
     "metadata": {},
     "output_type": "execute_result"
    }
   ],
   "source": [
    "top_5_letters"
   ]
  },
  {
   "cell_type": "code",
   "execution_count": 12,
   "metadata": {},
   "outputs": [
    {
     "name": "stdout",
     "output_type": "stream",
     "text": [
      "e 10.565110565110565\n",
      "n 8.476658476658477\n",
      "o 8.476658476658477\n",
      "t 8.230958230958231\n",
      "a 8.108108108108109\n"
     ]
    }
   ],
   "source": [
    "for i in top_5_letters.keys():\n",
    "    print(i, top_5_letters[i])"
   ]
  },
  {
   "cell_type": "code",
   "execution_count": 1,
   "metadata": {},
   "outputs": [
    {
     "name": "stdout",
     "output_type": "stream",
     "text": [
      "['a', 'a', 'a', 'a', 'a', 'a', 'a', 'a', 'a', 'a', 'a', 'a', 'a', 'a', 'a', 'a', 'a', 'a', 'a', 'a']\n"
     ]
    }
   ],
   "source": [
    "my_array = [\"a\"] * 20\n",
    "print(my_array)"
   ]
  },
  {
   "cell_type": "code",
   "execution_count": 1,
   "metadata": {},
   "outputs": [
    {
     "name": "stdout",
     "output_type": "stream",
     "text": [
      "Chi-square statistic: 0.5555555555555556\n"
     ]
    }
   ],
   "source": [
    "# Observed frequencies\n",
    "observed_freq = [10, 15, 20]\n",
    "\n",
    "# Expected frequencies (your expected values for comparison)\n",
    "expected_freq = [12, 15, 18]\n",
    "\n",
    "# Calculate the chi-square statistic\n",
    "chi_square_statistic = sum(\n",
    "    (obs - exp) ** 2 / exp for obs, exp in zip(observed_freq, expected_freq)\n",
    ")\n",
    "\n",
    "# Output the result\n",
    "print(\"Chi-square statistic:\", chi_square_statistic)"
   ]
  },
  {
   "cell_type": "code",
   "execution_count": 2,
   "metadata": {},
   "outputs": [
    {
     "name": "stdout",
     "output_type": "stream",
     "text": [
      "Chi-square statistic: 22.5\n"
     ]
    }
   ],
   "source": [
    "# Observed frequencies\n",
    "observed_freq = [10, 15, 20]\n",
    "\n",
    "# Expected frequencies (your expected values for comparison)\n",
    "expected_freq = [20, 30, 40]\n",
    "\n",
    "# Calculate the chi-square statistic\n",
    "chi_square_statistic = sum(\n",
    "    (obs - exp) ** 2 / exp for obs, exp in zip(observed_freq, expected_freq)\n",
    ")\n",
    "\n",
    "# Output the result\n",
    "print(\"Chi-square statistic:\", chi_square_statistic)"
   ]
  },
  {
   "cell_type": "code",
   "execution_count": 23,
   "metadata": {},
   "outputs": [
    {
     "name": "stdout",
     "output_type": "stream",
     "text": [
      "Chi-square statistic: 0.11904761904761904\n"
     ]
    }
   ],
   "source": [
    "observed_freq = [10, 15, 20]\n",
    "\n",
    "# Expected frequencies (your expected values for comparison)\n",
    "expected_freq = [10, 14, 21]\n",
    "\n",
    "# Calculate the chi-square statistic\n",
    "chi_square_statistic = sum(\n",
    "    (obs - exp) ** 2 / exp for obs, exp in zip(observed_freq, expected_freq)\n",
    ")\n",
    "# Degrees of freedom (number of categories - 1)\n",
    "\n",
    "\n",
    "# Output the result\n",
    "print(\"Chi-square statistic:\", chi_square_statistic)"
   ]
  },
  {
   "cell_type": "code",
   "execution_count": 21,
   "metadata": {},
   "outputs": [
    {
     "name": "stdout",
     "output_type": "stream",
     "text": [
      "Chi-square statistic: 0.0\n",
      "P-value: 1.0\n"
     ]
    }
   ],
   "source": [
    "from scipy.stats import chisquare\n",
    "\n",
    "# Observed frequencies\n",
    "observed_freq = [10, 15, 20]\n",
    "\n",
    "# Expected frequencies (your expected values for comparison)\n",
    "expected_freq = [10, 15, 20]\n",
    "\n",
    "# Perform the chi-square test\n",
    "chi2, p_value = chisquare(f_obs=observed_freq, f_exp=expected_freq)\n",
    "\n",
    "# Output the results\n",
    "print(\"Chi-square statistic:\", chi2)\n",
    "print(\"P-value:\", p_value)"
   ]
  },
  {
   "cell_type": "code",
   "execution_count": 16,
   "metadata": {},
   "outputs": [],
   "source": [
    "letter_percentages = {\n",
    "    \"a\": 8.11,\n",
    "    \"b\": 1.84,\n",
    "    \"c\": 2.33,\n",
    "    \"d\": 4.18,\n",
    "    \"e\": 10.57,\n",
    "    \"f\": 1.84,\n",
    "    \"g\": 2.46,\n",
    "    \"h\": 6.63,\n",
    "    \"i\": 6.88,\n",
    "    \"j\": 0.12,\n",
    "    \"k\": 0.61,\n",
    "    \"l\": 4.18,\n",
    "    \"m\": 1.35,\n",
    "    \"n\": 8.48,\n",
    "    \"o\": 8.48,\n",
    "    \"p\": 1.60,\n",
    "    \"q\": 0.00,\n",
    "    \"r\": 5.77,\n",
    "    \"s\": 6.14,\n",
    "    \"t\": 8.23,\n",
    "    \"u\": 2.21,\n",
    "    \"v\": 2.09,\n",
    "    \"w\": 3.81,\n",
    "    \"x\": 0.00,\n",
    "    \"y\": 2.09,\n",
    "    \"z\": 0.00,\n",
    "}\n",
    "\n",
    "letter_percentages_second = {\n",
    "    \"a\": 8.2,\n",
    "    \"b\": 1.5,\n",
    "    \"c\": 2.8,\n",
    "    \"d\": 4.3,\n",
    "    \"e\": 12.7,\n",
    "    \"f\": 2.2,\n",
    "    \"g\": 2.0,\n",
    "    \"h\": 6.1,\n",
    "    \"i\": 7.0,\n",
    "    \"j\": 0.15,\n",
    "    \"k\": 0.77,\n",
    "    \"l\": 4.0,\n",
    "    \"m\": 2.4,\n",
    "    \"n\": 6.7,\n",
    "    \"o\": 7.5,\n",
    "    \"p\": 1.9,\n",
    "    \"q\": 0.095,\n",
    "    \"r\": 6.0,\n",
    "    \"s\": 6.3,\n",
    "    \"t\": 9.1,\n",
    "    \"u\": 2.8,\n",
    "    \"v\": 0.98,\n",
    "    \"w\": 2.4,\n",
    "    \"x\": 0.15,\n",
    "    \"y\": 2.0,\n",
    "    \"z\": 0.074,\n",
    "}"
   ]
  },
  {
   "cell_type": "code",
   "execution_count": 17,
   "metadata": {},
   "outputs": [
    {
     "name": "stdout",
     "output_type": "stream",
     "text": [
      "Mean Square Error: 0.5908231153846152\n"
     ]
    }
   ],
   "source": [
    "def mean_square_error(dict1, dict2):\n",
    "    # Make sure both dictionaries have the same keys\n",
    "    # Calculate squared differences for common keys\n",
    "    squared_diff = [(dict1[key] - dict2[key]) ** 2 for key in dict1.keys()]\n",
    "\n",
    "    # Calculate mean square error\n",
    "    mse = sum(squared_diff) / len(dict1.keys())\n",
    "\n",
    "    return mse\n",
    "\n",
    "\n",
    "# Example usage\n",
    "mse = mean_square_error(letter_percentages, letter_percentages_second)\n",
    "print(\"Mean Square Error:\", mse)"
   ]
  },
  {
   "cell_type": "code",
   "execution_count": 1,
   "metadata": {},
   "outputs": [],
   "source": [
    "from Ram.Cipher.CipherBrute import CipherBrute\n",
    "\n",
    "obj = CipherBrute(\"enc.txt\")"
   ]
  },
  {
   "cell_type": "code",
   "execution_count": 2,
   "metadata": {},
   "outputs": [
    {
     "name": "stdout",
     "output_type": "stream",
     "text": [
      "Chi-square values: [834.426673169185, 1130.4925594407484, 297.50013316791933, 2179.7549553505223, 740.517916174733, 1569.4467314563747, 2434.563766681755, 2791.742370225097, 740.517916174733, 966.8792155143539, 297.50013316791933, 1917.3997480815756, 834.426673169185, 863.7915412051626, 1130.4925594407484, 737.6465990977895, 2179.7549553505223, 970.6811603851431, 1569.4467314563747, 1151.7030704152635, 2791.742370225097, 970.6811603851431, 966.8792155143539, 737.6465990977895, 1917.3997480815756, 863.7915412051626]\n",
      "Best Shift: 2\n"
     ]
    }
   ],
   "source": [
    "obj.breakCipher()"
   ]
  },
  {
   "cell_type": "code",
   "execution_count": 2,
   "metadata": {},
   "outputs": [
    {
     "name": "stdout",
     "output_type": "stream",
     "text": [
      "{'A': '8.2', 'B': '1.5', 'C': '2.8', 'D': '4.3', 'E': '12.7', 'F': '2.2', 'G': '2.0', 'H': '6.1', 'I': '7.0', 'J': '0.15', 'K': '0.77', 'L': '4.0', 'M': '2.4', 'N': '6.7', 'O': '7.5', 'P': '1.9', 'Q': '0.095', 'R': '6.0', 'S': '6.3', 'T': '9.1', 'U': '2.8', 'V': '0.98', 'W': '2.4', 'X': '0.15', 'Y': '2.0', 'Z': '0.074'}\n"
     ]
    }
   ],
   "source": [
    "obj.readFreqFile(\"./eng.txt\")"
   ]
  },
  {
   "cell_type": "code",
   "execution_count": null,
   "metadata": {},
   "outputs": [],
   "source": []
  }
 ],
 "metadata": {
  "kernelspec": {
   "display_name": "base",
   "language": "python",
   "name": "python3"
  },
  "language_info": {
   "codemirror_mode": {
    "name": "ipython",
    "version": 3
   },
   "file_extension": ".py",
   "mimetype": "text/x-python",
   "name": "python",
   "nbconvert_exporter": "python",
   "pygments_lexer": "ipython3",
   "version": "3.10.9"
  }
 },
 "nbformat": 4,
 "nbformat_minor": 2
}
