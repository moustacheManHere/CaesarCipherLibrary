{
 "cells": [
  {
   "cell_type": "code",
   "execution_count": 1,
   "metadata": {},
   "outputs": [],
   "source": [
    "def encrypt(txt, key):\n",
    "    return \"\".join(\n",
    "        chr(\n",
    "            (ord(char) - ord(\"A\" if char.isupper() else \"a\") + key) % 26\n",
    "            + ord(\"A\" if char.isupper() else \"a\")\n",
    "        )\n",
    "        if char.isalpha()\n",
    "        else char\n",
    "        for char in txt\n",
    "    )"
   ]
  },
  {
   "cell_type": "code",
   "execution_count": 2,
   "metadata": {},
   "outputs": [
    {
     "data": {
      "text/plain": [
       "'ujcyp ica'"
      ]
     },
     "execution_count": 2,
     "metadata": {},
     "output_type": "execute_result"
    }
   ],
   "source": [
    "encrypt(\"shawn gay\", 2)"
   ]
  },
  {
   "cell_type": "code",
   "execution_count": 1,
   "metadata": {},
   "outputs": [
    {
     "name": "stdout",
     "output_type": "stream",
     "text": [
      "In a world of vibrant hues, a soul named Shawn,\n",
      "A spirit unbounded, a light brightly drawn.\n",
      "With courage and grace, he walks his own way,\n",
      "Embracing the truth that colors his day.\n",
      "\n",
      "In the tapestry of life, his threads intertwine,\n",
      "A rainbow of love, a spectrum divine.\n",
      "For Shawn is gay, and proudly he stands,\n",
      "In a world that's evolving, in welcoming lands.\n",
      "\n",
      "With every step, he dances with pride,\n",
      "A symphony of love, nothing to hide.\n",
      "His heart beats a rhythm, a love melody,\n",
      "Echoing loudly, breaking through bigotry.\n",
      "\n",
      "In the canvas of life, he paints with delight,\n",
      "A portrait of love, a beacon so bright.\n",
      "For love knows no boundaries, no judgment, no line,\n",
      "And Shawn, with his love, continues to shine.\n",
      "\n",
      "In the tapestry of diversity, his story is told,\n",
      "A tale of acceptance, a truth to unfold.\n",
      "For love knows no gender, no color, no creed,\n",
      "And in Shawn's embrace, we find what we need.\n",
      "\n",
      "So here's to Shawn, a beacon so strong,\n",
      "A testament to love, where he truly belongs.\n",
      "In this poem we weave, with words pure and true,\n",
      "Celebrating Shawn and the love that he knew.\n"
     ]
    }
   ],
   "source": [
    "# Open a file for reading\n",
    "with open(\"text/shawn.txt\", \"r\") as file:\n",
    "    long_string = file.read()\n",
    "\n",
    "# Now, you can use the long_string variable as needed\n",
    "print(long_string)"
   ]
  },
  {
   "cell_type": "code",
   "execution_count": 2,
   "metadata": {},
   "outputs": [
    {
     "data": {
      "text/plain": [
       "['In a world of vibrant hues, a soul named Shawn,',\n",
       " 'A spirit unbounded, a light brightly drawn.',\n",
       " 'With courage and grace, he walks his own way,',\n",
       " 'Embracing the truth that colors his day.',\n",
       " '',\n",
       " 'In the tapestry of life, his threads intertwine,',\n",
       " 'A rainbow of love, a spectrum divine.',\n",
       " 'For Shawn is gay, and proudly he stands,',\n",
       " \"In a world that's evolving, in welcoming lands.\",\n",
       " '',\n",
       " 'With every step, he dances with pride,',\n",
       " 'A symphony of love, nothing to hide.',\n",
       " 'His heart beats a rhythm, a love melody,',\n",
       " 'Echoing loudly, breaking through bigotry.',\n",
       " '',\n",
       " 'In the canvas of life, he paints with delight,',\n",
       " 'A portrait of love, a beacon so bright.',\n",
       " 'For love knows no boundaries, no judgment, no line,',\n",
       " 'And Shawn, with his love, continues to shine.',\n",
       " '',\n",
       " 'In the tapestry of diversity, his story is told,',\n",
       " 'A tale of acceptance, a truth to unfold.',\n",
       " 'For love knows no gender, no color, no creed,',\n",
       " \"And in Shawn's embrace, we find what we need.\",\n",
       " '',\n",
       " \"So here's to Shawn, a beacon so strong,\",\n",
       " 'A testament to love, where he truly belongs.',\n",
       " 'In this poem we weave, with words pure and true,',\n",
       " 'Celebrating Shawn and the love that he knew.']"
      ]
     },
     "execution_count": 2,
     "metadata": {},
     "output_type": "execute_result"
    }
   ],
   "source": [
    "long_string.split(\"\\n\")"
   ]
  },
  {
   "cell_type": "code",
   "execution_count": null,
   "metadata": {},
   "outputs": [],
   "source": []
  }
 ],
 "metadata": {
  "kernelspec": {
   "display_name": "base",
   "language": "python",
   "name": "python3"
  },
  "language_info": {
   "codemirror_mode": {
    "name": "ipython",
    "version": 3
   },
   "file_extension": ".py",
   "mimetype": "text/x-python",
   "name": "python",
   "nbconvert_exporter": "python",
   "pygments_lexer": "ipython3",
   "version": "3.10.9"
  }
 },
 "nbformat": 4,
 "nbformat_minor": 2
}
